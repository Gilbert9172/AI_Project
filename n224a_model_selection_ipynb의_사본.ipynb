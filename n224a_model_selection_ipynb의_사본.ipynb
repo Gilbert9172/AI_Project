{
  "nbformat": 4,
  "nbformat_minor": 0,
  "metadata": {
    "kernelspec": {
      "display_name": "Python 3",
      "language": "python",
      "name": "python3"
    },
    "language_info": {
      "codemirror_mode": {
        "name": "ipython",
        "version": 3
      },
      "file_extension": ".py",
      "mimetype": "text/x-python",
      "name": "python",
      "nbconvert_exporter": "python",
      "pygments_lexer": "ipython3",
      "version": "3.7.7"
    },
    "colab": {
      "name": "n224a-model-selection.ipynb의 사본",
      "provenance": [],
      "collapsed_sections": [],
      "include_colab_link": true
    }
  },
  "cells": [
    {
      "cell_type": "markdown",
      "metadata": {
        "id": "view-in-github",
        "colab_type": "text"
      },
      "source": [
        "<a href=\"https://colab.research.google.com/github/Gilbert9172/AI_Project/blob/main/n224a_model_selection_ipynb%EC%9D%98_%EC%82%AC%EB%B3%B8.ipynb\" target=\"_parent\"><img src=\"https://colab.research.google.com/assets/colab-badge.svg\" alt=\"Open In Colab\"/></a>"
      ]
    },
    {
      "cell_type": "markdown",
      "metadata": {
        "id": "OiaVJJheVEFr"
      },
      "source": [
        "<img align=\"right\" src=\"https://ds-cs-images.s3.ap-northeast-2.amazonaws.com/Codestates_Fulllogo_Color.png\" width=100>\n",
        "\n",
        "## *DATA SCIENCE / SECTION 2 / SPRINT 2 / NOTE 4*\n",
        "\n",
        "# 📝 Assignment\n",
        "---"
      ]
    },
    {
      "cell_type": "markdown",
      "metadata": {
        "id": "8gqLxpN_VEFt"
      },
      "source": [
        "# 모델선택(Model Selection)\n",
        "\n",
        "### 1) 캐글 대회를 이어서 진행합니다. RandomizedSearchCV 를 사용하여 하이퍼파라미터 튜닝을 진행합니다.\n",
        "\n",
        "- [RandomForestClassifier](https://scikit-learn.org/stable/modules/generated/sklearn.ensemble.RandomForestClassifier.html)를 사용하세요.\n",
        "- 분류문제에서 맞는 [scoring parameter](https://scikit-learn.org/stable/modules/model_evaluation.html#common-cases-predefined-values) metric을 사용하세요.\n",
        "- [OrdinalEncoder](https://contrib.scikit-learn.org/categorical-encoding/ordinal.html) 사용을 권합니다.\n",
        "- RandomizedSearchCV 를 사용해서 하이퍼파라미터 튜닝을 진행하고 최고 성능을 보이는 모델로 예측을 진행한 후 캐글에 제출합니다.\n",
        "- **캐글 Leaderboard에서 개선된 본인 Score를 과제 제출폼에 제출하세요.**"
      ]
    },
    {
      "cell_type": "code",
      "metadata": {
        "id": "zyZqJ2GlVEFt",
        "colab": {
          "base_uri": "https://localhost:8080/"
        },
        "collapsed": true,
        "outputId": "ee6663d8-c7c6-4ea4-9db8-39b77b8b5301"
      },
      "source": [
        "pip install --upgrade category_encoders"
      ],
      "execution_count": 1,
      "outputs": [
        {
          "output_type": "stream",
          "text": [
            "Collecting category_encoders\n",
            "\u001b[?25l  Downloading https://files.pythonhosted.org/packages/44/57/fcef41c248701ee62e8325026b90c432adea35555cbc870aff9cfba23727/category_encoders-2.2.2-py2.py3-none-any.whl (80kB)\n",
            "\r\u001b[K     |████                            | 10kB 13.0MB/s eta 0:00:01\r\u001b[K     |████████▏                       | 20kB 18.7MB/s eta 0:00:01\r\u001b[K     |████████████▏                   | 30kB 11.6MB/s eta 0:00:01\r\u001b[K     |████████████████▎               | 40kB 9.0MB/s eta 0:00:01\r\u001b[K     |████████████████████▎           | 51kB 5.6MB/s eta 0:00:01\r\u001b[K     |████████████████████████▍       | 61kB 6.5MB/s eta 0:00:01\r\u001b[K     |████████████████████████████▍   | 71kB 6.2MB/s eta 0:00:01\r\u001b[K     |████████████████████████████████| 81kB 4.0MB/s \n",
            "\u001b[?25hRequirement already satisfied, skipping upgrade: pandas>=0.21.1 in /usr/local/lib/python3.7/dist-packages (from category_encoders) (1.1.5)\n",
            "Requirement already satisfied, skipping upgrade: scipy>=1.0.0 in /usr/local/lib/python3.7/dist-packages (from category_encoders) (1.4.1)\n",
            "Requirement already satisfied, skipping upgrade: patsy>=0.5.1 in /usr/local/lib/python3.7/dist-packages (from category_encoders) (0.5.1)\n",
            "Requirement already satisfied, skipping upgrade: numpy>=1.14.0 in /usr/local/lib/python3.7/dist-packages (from category_encoders) (1.19.5)\n",
            "Requirement already satisfied, skipping upgrade: statsmodels>=0.9.0 in /usr/local/lib/python3.7/dist-packages (from category_encoders) (0.10.2)\n",
            "Requirement already satisfied, skipping upgrade: scikit-learn>=0.20.0 in /usr/local/lib/python3.7/dist-packages (from category_encoders) (0.22.2.post1)\n",
            "Requirement already satisfied, skipping upgrade: pytz>=2017.2 in /usr/local/lib/python3.7/dist-packages (from pandas>=0.21.1->category_encoders) (2018.9)\n",
            "Requirement already satisfied, skipping upgrade: python-dateutil>=2.7.3 in /usr/local/lib/python3.7/dist-packages (from pandas>=0.21.1->category_encoders) (2.8.1)\n",
            "Requirement already satisfied, skipping upgrade: six in /usr/local/lib/python3.7/dist-packages (from patsy>=0.5.1->category_encoders) (1.15.0)\n",
            "Requirement already satisfied, skipping upgrade: joblib>=0.11 in /usr/local/lib/python3.7/dist-packages (from scikit-learn>=0.20.0->category_encoders) (1.0.1)\n",
            "Installing collected packages: category-encoders\n",
            "Successfully installed category-encoders-2.2.2\n"
          ],
          "name": "stdout"
        }
      ]
    },
    {
      "cell_type": "code",
      "metadata": {
        "id": "XPt4-qaHhiYw"
      },
      "source": [
        "import pandas as pd\n",
        "import numpy as np\n",
        "\n",
        "target = 'vacc_h1n1_f'\n",
        "\n",
        "train_data = pd.merge(pd.read_csv('https://ds-lecture-data.s3.ap-northeast-2.amazonaws.com/vacc_flu/train.csv'), \n",
        "                 pd.read_csv('https://ds-lecture-data.s3.ap-northeast-2.amazonaws.com/vacc_flu/train_labels.csv')[target], left_index=True, right_index=True)\n",
        "test = pd.read_csv('https://ds-lecture-data.s3.ap-northeast-2.amazonaws.com/vacc_flu/test.csv')"
      ],
      "execution_count": 166,
      "outputs": []
    },
    {
      "cell_type": "code",
      "metadata": {
        "id": "aqWjknp4hmSy"
      },
      "source": [
        "from sklearn.model_selection import train_test_split\n",
        "\n",
        "train, val = train_test_split(train_data, train_size=0.80, test_size=0.20, \n",
        "                              stratify=train_data[target], random_state=2)"
      ],
      "execution_count": 167,
      "outputs": []
    },
    {
      "cell_type": "code",
      "metadata": {
        "id": "6e_6hsEJiJzo"
      },
      "source": [
        "pd.set_option('mode.chained_assignment',  None)\n",
        "\n",
        "def engineer(df):\n",
        "\n",
        "    selected_cols = df.select_dtypes(include=['number', 'object'])\n",
        "    labels = selected_cols.nunique() \n",
        "    selected_features = labels[labels <= 30].index.tolist() \n",
        "    df = df[selected_features]\n",
        "\n",
        "    dels = [col for col in df.columns if ('employment' in col or 'seas' in col)]\n",
        "    df.drop(columns=dels, inplace=True)\n",
        "\n",
        "    df.drop(columns = ['rent_own_r', 'inc_pov'], inplace=True)\n",
        "\n",
        "    c = ['opinion_h1n1_vacc_effective','opinion_h1n1_risk', 'opinion_h1n1_sick_from_vacc','agegrp']\n",
        "    ove = {\"Dont Know\":1, \"Refused\": 2, \"Not At All Effective\": 3, \"Not Very Effective\": 4, \"Somewhat Effective \":5,\"Very Effective\":6}\n",
        "    ohr = {\"Dont Know\":1, \"Refused\": 2, \"Very Low\": 3, \"Somewhat Low\": 4, \"Somewhat High\":5,\"Very High\":6}\n",
        "    ohsfv = {\"Dont Know\":1, \"Refused\": 2, \"Not At All Worried\": 3, \"Somewhat Worried\": 4, \"Not Very Worried\":5,\"Very Worried\":6}\n",
        "    agegap = {'6 Months - 9 Years':0,'10 - 17 Years':1,'18 - 34 Years':2,'35 - 44 Years':3,'45 - 54 Years':4,'55 - 64 Years':5,'65+ Years':6}\n",
        "\n",
        "    df[c[0]] = df.opinion_h1n1_vacc_effective.map(ove)\n",
        "    df[c[1]] = df.opinion_h1n1_risk.map(ohr)\n",
        "    df[c[2]] = df.opinion_h1n1_sick_from_vacc.map(ohsfv)\n",
        "    df[c[3]] = df.agegrp.map(agegap)\n",
        "\n",
        "    return df\n",
        "\n",
        " \n",
        "train = engineer(train) \n",
        "val = engineer(val)   \n",
        "test = engineer(test)"
      ],
      "execution_count": 168,
      "outputs": []
    },
    {
      "cell_type": "code",
      "metadata": {
        "id": "7afRooAghq5w"
      },
      "source": [
        "features = train.drop(columns=[target]).columns\n",
        "\n",
        "X_train = train[features]\n",
        "y_train = train[target]\n",
        "\n",
        "X_val = val[features]\n",
        "y_val = val[target]\n",
        "\n",
        "X_test = test[features]"
      ],
      "execution_count": 169,
      "outputs": []
    },
    {
      "cell_type": "code",
      "metadata": {
        "id": "vwc7aATGvaV0"
      },
      "source": [
        "from sklearn.ensemble import RandomForestClassifier\n",
        "from sklearn.model_selection import RandomizedSearchCV\n",
        "from sklearn.impute import SimpleImputer  \n",
        "from sklearn.pipeline import make_pipeline\n",
        "from category_encoders import TargetEncoder\n",
        "from scipy.stats import randint,uniform\n",
        "\n",
        "\n",
        "pipe_ord = make_pipeline(\n",
        "    TargetEncoder(),\n",
        "    SimpleImputer(),\n",
        "    RandomForestClassifier(random_state = 0,\n",
        "                           class_weight='balanced',\n",
        "                           n_jobs = -1, \n",
        "                           oob_score = True)\n",
        ")\n",
        "\n",
        "params = {'randomforestclassifier__n_estimators': randint(100,300),\n",
        "          'randomforestclassifier__max_depth': randint(5,20),\n",
        "          'randomforestclassifier__min_samples_leaf': randint(2,20),\n",
        "          'randomforestclassifier__min_samples_split' : randint(1,20),\n",
        "          'randomforestclassifier__max_features' : randint(1,10)}\n",
        "        #   'randomforestclassifier__random_state' : randint(1,10)\n",
        "        #   }\n",
        "\n",
        "R_CV = RandomizedSearchCV(pipe_ord,params,scoring=\"neg_mean_absolute_error\",\n",
        "                             n_jobs = 2, verbose=1,n_iter=50,cv=5)\n",
        "\n",
        "R_CV.fit(X_train,y_train)"
      ],
      "execution_count": null,
      "outputs": []
    },
    {
      "cell_type": "code",
      "metadata": {
        "colab": {
          "base_uri": "https://localhost:8080/"
        },
        "id": "CrGCvaWOyqJY",
        "outputId": "29eada2a-940a-47bc-a417-62027d5dad3b"
      },
      "source": [
        "print('최적 하이퍼파라미터:', R_CV.best_params_)"
      ],
      "execution_count": 207,
      "outputs": [
        {
          "output_type": "stream",
          "text": [
            "최적 하이퍼파라미터: {'randomforestclassifier__max_depth': 17, 'randomforestclassifier__max_features': 7, 'randomforestclassifier__min_samples_leaf': 4, 'randomforestclassifier__min_samples_split': 9, 'randomforestclassifier__n_estimators': 245}\n"
          ],
          "name": "stdout"
        }
      ]
    },
    {
      "cell_type": "code",
      "metadata": {
        "colab": {
          "base_uri": "https://localhost:8080/"
        },
        "id": "b_mdy4lPz19A",
        "outputId": "c76b4988-4a56-43f8-dba1-e0b92090602a"
      },
      "source": [
        "pipe_ord = make_pipeline(\n",
        "    TargetEncoder(),\n",
        "    SimpleImputer(),\n",
        "    RandomForestClassifier(class_weight='balanced',\n",
        "                           max_depth = 15,\n",
        "                           max_features = 7,\n",
        "                           min_samples_leaf = 4,\n",
        "                           min_samples_split = 9,\n",
        "                           n_estimators = 200,\n",
        "                           random_state = 1,\n",
        "                           n_jobs = -1, \n",
        "                           oob_score = True)\n",
        ")\n",
        "\n",
        "pipe_ord.fit(X_train,y_train)\n",
        "\n",
        "y_v_pred = pipe_ord.predict(X_val)\n",
        "print('학습정확도', pipe_ord.score(X_train,y_train))\n",
        "print('검증정확도', pipe_ord.score(X_val,y_val))\n",
        "print('F1_Score', f1_score(y_val, y_v_pred))"
      ],
      "execution_count": 205,
      "outputs": [
        {
          "output_type": "stream",
          "text": [
            "/usr/local/lib/python3.7/dist-packages/category_encoders/utils.py:21: FutureWarning: is_categorical is deprecated and will be removed in a future version.  Use is_categorical_dtype instead\n",
            "  elif pd.api.types.is_categorical(cols):\n"
          ],
          "name": "stderr"
        },
        {
          "output_type": "stream",
          "text": [
            "학습정확도 0.8695845565341161\n",
            "검증정확도 0.8077333649626379\n",
            "F1_Score 0.6270991488382792\n"
          ],
          "name": "stdout"
        }
      ]
    },
    {
      "cell_type": "code",
      "metadata": {
        "id": "Z7p9Skkuv3Pg"
      },
      "source": [
        "# sorted(pipe_ord.get_params().keys())"
      ],
      "execution_count": null,
      "outputs": []
    },
    {
      "cell_type": "markdown",
      "metadata": {
        "id": "xMgki04qVEFu"
      },
      "source": [
        "# 🔥 도전과제\n",
        "### 2) [`GridSearchCV`](https://scikit-learn.org/stable/modules/generated/sklearn.model_selection.GridSearchCV.html) 를 사용하여 하이퍼파라미터 튜닝을 진행합니다.\n",
        "- 모델 성능을 높이기 위해 가능한 시도를 다 해보세요.\n",
        "- 모델 성능에 가장 큰 영향을 준 하이퍼파라미터에 대해서 분석하고 설명해 보세요.\n",
        "\n",
        "\n",
        "\n",
        "```\n",
        "max_depth, 깊이가 깊어질수록 과적합 현상이 자주 발생한다.\n",
        "```\n",
        "\n",
        "\n",
        "\n"
      ]
    },
    {
      "cell_type": "code",
      "metadata": {
        "id": "Dm2hQClBVEFu"
      },
      "source": [
        "from sklearn.ensemble import RandomForestClassifier\n",
        "from sklearn.impute import SimpleImputer  \n",
        "from sklearn.pipeline import make_pipeline\n",
        "from sklearn.model_selection import GridSearchCV\n",
        "from category_encoders import TargetEncoder\n",
        "\n",
        "pipe_gr = make_pipeline(\n",
        "    TargetEncoder(),\n",
        "    SimpleImputer(strategy = 'mean'),\n",
        "    RandomForestClassifier(random_state = 0,\n",
        "                           class_weight='balanced', \n",
        "                           n_jobs = -1, \n",
        "                           oob_score = True)\n",
        ")\n",
        "\n",
        "param_grid = {\n",
        "    'randomforestclassifier__n_estimators': [100,150,200],\n",
        "    'randomforestclassifier__max_depth': [10,12,15],\n",
        "    'randomforestclassifier__min_samples_leaf': [2,6,10],\n",
        "    'randomforestclassifier__min_samples_split' : [2,6,8]\n",
        "}\n",
        "\n",
        "G_CV = GridSearchCV(pipe_gr,param_grid,scoring=\"neg_mean_absolute_error\",\n",
        "                             n_jobs =-1, verbose=1,cv=5)\n",
        "# ,n_iter=50\n",
        "G_CV.fit(X_train,y_train)"
      ],
      "execution_count": null,
      "outputs": []
    },
    {
      "cell_type": "code",
      "metadata": {
        "colab": {
          "base_uri": "https://localhost:8080/"
        },
        "id": "qF7DthIp9B8X",
        "outputId": "09b6361c-5904-47d9-93d3-a917678fcd6a"
      },
      "source": [
        "print('최적 하이퍼파라미터:', G_CV.best_params_)"
      ],
      "execution_count": 206,
      "outputs": [
        {
          "output_type": "stream",
          "text": [
            "최적 하이퍼파라미터: {'randomforestclassifier__max_depth': 15, 'randomforestclassifier__min_samples_leaf': 2, 'randomforestclassifier__min_samples_split': 2, 'randomforestclassifier__n_estimators': 200}\n"
          ],
          "name": "stdout"
        }
      ]
    }
  ]
}