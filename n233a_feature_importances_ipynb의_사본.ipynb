{
  "nbformat": 4,
  "nbformat_minor": 0,
  "metadata": {
    "kernelspec": {
      "display_name": "Python 3",
      "language": "python",
      "name": "python3"
    },
    "language_info": {
      "codemirror_mode": {
        "name": "ipython",
        "version": 3
      },
      "file_extension": ".py",
      "mimetype": "text/x-python",
      "name": "python",
      "nbconvert_exporter": "python",
      "pygments_lexer": "ipython3",
      "version": "3.7.7"
    },
    "colab": {
      "name": "n233a-feature-importances.ipynb의 사본",
      "provenance": [],
      "include_colab_link": true
    }
  },
  "cells": [
    {
      "cell_type": "markdown",
      "metadata": {
        "id": "view-in-github",
        "colab_type": "text"
      },
      "source": [
        "<a href=\"https://colab.research.google.com/github/Gilbert9172/AI_Project/blob/main/n233a_feature_importances_ipynb%EC%9D%98_%EC%82%AC%EB%B3%B8.ipynb\" target=\"_parent\"><img src=\"https://colab.research.google.com/assets/colab-badge.svg\" alt=\"Open In Colab\"/></a>"
      ]
    },
    {
      "cell_type": "markdown",
      "metadata": {
        "id": "nCc3XZEyG3XV"
      },
      "source": [
        "<img align=\"right\" src=\"https://ds-cs-images.s3.ap-northeast-2.amazonaws.com/Codestates_Fulllogo_Color.png\" width=100>\n",
        "\n",
        "## *DATA SCIENCE / SECTION 2 / SPRINT 3 / NOTE 3*\n",
        "\n",
        "# 📝 Assignment\n",
        "---\n",
        "# Feature Importances"
      ]
    },
    {
      "cell_type": "markdown",
      "metadata": {
        "id": "Maft1FvIUp6C"
      },
      "source": [
        "## 1) 지속적으로 포트폴리오 프로젝트를 수행하세요\n",
        "- 지속적으로 데이터를 랭글링 하고 추가적인 시각화 결과를 만드세요\n",
        "- 작성한 코드마다 적절한 코멘트를 추가하세요\n",
        "- 모델을 학습시키고 베이스라인 모델과 비교해 보세요\n",
        "- **포트폴리오 프로젝트의 베이스라인 모델이 무엇인지 한 문장으로 설명하여 과제 제출폼에 제출하세요.** "
      ]
    },
    {
      "cell_type": "markdown",
      "metadata": {
        "id": "sSUV7c36Z7X1"
      },
      "source": [
        "# 전처리"
      ]
    },
    {
      "cell_type": "code",
      "metadata": {
        "id": "KIVIZbnIUp6D"
      },
      "source": [
        "# from google.colab import drive\n",
        "# drive.mount('/content/drive')"
      ],
      "execution_count": 109,
      "outputs": []
    },
    {
      "cell_type": "code",
      "metadata": {
        "colab": {
          "base_uri": "https://localhost:8080/"
        },
        "id": "_UChTNTrZhIU",
        "outputId": "e02d8ba1-ffe5-4579-d374-afeeae12d49f"
      },
      "source": [
        "import pandas as pd\n",
        "import numpy as np\n",
        "\n",
        "# 수집한 자료에서 train, test 미리 분리\n",
        "\n",
        "FIFA_train = ('/content/drive/MyDrive/Section2/Project/csv_file/FIFA_train.csv')\n",
        "FIFA_test = ('/content/drive/MyDrive/Section2/Project/csv_file/FIFA_test.csv')\n",
        "\n",
        "train = pd.read_csv(FIFA_train, encoding = 'utf-8')\n",
        "test = pd.read_csv(FIFA_test, encoding = 'utf-8')\n",
        "\n",
        "train.shape, test.shape"
      ],
      "execution_count": 110,
      "outputs": [
        {
          "output_type": "execute_result",
          "data": {
            "text/plain": [
              "((8932, 12), (3828, 11))"
            ]
          },
          "metadata": {
            "tags": []
          },
          "execution_count": 110
        }
      ]
    },
    {
      "cell_type": "markdown",
      "metadata": {
        "id": "FPElMOIgZuq2"
      },
      "source": [
        "Train 전처리"
      ]
    },
    {
      "cell_type": "code",
      "metadata": {
        "id": "5s2Dr8fRZlMF"
      },
      "source": [
        "# train Data 년도 통일 \n",
        "def contract(col):\n",
        "\n",
        "    for i in train[col]:\n",
        "\n",
        "        if i == 'Jun 30, 2019':\n",
        "            train.contract_until.replace('Jun 30, 2019', '2019', inplace=True)\n",
        "\n",
        "        elif i == 'Jun 30, 2020':\n",
        "            train.contract_until.replace('Jun 30, 2020', '2020', inplace=True)\n",
        "\n",
        "        elif i == 'Dec 31, 2018':\n",
        "            train.contract_until.replace('Dec 31, 2018', '2018', inplace=True)\n",
        "    \n",
        "        elif i == 'Jun 30, 2020':\n",
        "            train.contract_until.replace('Jun 30, 2020', '2020', inplace=True)\n",
        "    \n",
        "        elif i == 'May 31, 2019':\n",
        "            train.contract_until.replace('May 31, 2019', '2019', inplace=True)\n",
        "\n",
        "        elif i == 'May 31, 2020':\n",
        "            train.contract_until.replace('May 31, 2020', '2020', inplace=True)\n",
        "\n",
        "        elif i == 'Jan 31, 2019':\n",
        "            train.contract_until.replace('Jan 31, 2019', '2019', inplace=True)\n",
        "\n",
        "        elif i == 'Jan 1, 2019':\n",
        "            train.contract_until.replace('Jan 1, 2019', '2019', inplace=True)\n",
        "\n",
        "        elif i == 'Jan 12, 2019':\n",
        "            train.contract_until.replace('Jan 12, 2019', '2019', inplace=True)\n",
        "\n",
        "        else:\n",
        "            i==i\n",
        "\n",
        "    return train[col].astype(int)\n",
        "\n",
        "train['contract_until'] = contract('contract_until')\n",
        "\n",
        "# 계약만료 : 0 , 계약미만료 :1\n",
        "\n",
        "contract_Y_N = []\n",
        "\n",
        "for i in train['contract_until']:\n",
        "\n",
        "    if i > 2020:\n",
        "        contract_Y_N.append(1)\n",
        "\n",
        "    else:\n",
        "        contract_Y_N.append(0)\n",
        "\n",
        "train['contract_until'] = pd.Series(contract_Y_N)\n",
        "\n",
        "# 왼발 : 0 , 오른발 :1\n",
        "\n",
        "prefer_foot = []\n",
        "\n",
        "for x in train['prefer_foot']:\n",
        "\n",
        "    if x == 'right':\n",
        "        prefer_foot.append(1)\n",
        "\n",
        "    else:\n",
        "        prefer_foot.append(0)\n",
        "\n",
        "train['prefer_foot'] = pd.Series(prefer_foot)\n",
        "\n",
        "# Convert float to int\n",
        "train['reputation'] = train['reputation'].astype(int)"
      ],
      "execution_count": 111,
      "outputs": []
    },
    {
      "cell_type": "markdown",
      "metadata": {
        "id": "YWoHrxN4ZxvS"
      },
      "source": [
        "Test 전처리"
      ]
    },
    {
      "cell_type": "code",
      "metadata": {
        "id": "uLJxP8IPZtiP"
      },
      "source": [
        "# Test Data 년도 통일\n",
        "def contract(col):\n",
        "\n",
        "    for i in test[col]:\n",
        "\n",
        "        if i == 'Jun 30, 2019':\n",
        "            test.contract_until.replace('Jun 30, 2019', '2019', inplace=True)\n",
        "\n",
        "        elif i == 'Jun 30, 2020':\n",
        "            test.contract_until.replace('Jun 30, 2020', '2020', inplace=True)\n",
        "\n",
        "        elif i == 'Dec 31, 2018':\n",
        "            test.contract_until.replace('Dec 31, 2018', '2018', inplace=True)\n",
        "        \n",
        "        elif i == 'Dec 31, 2019':\n",
        "            test.contract_until.replace('Dec 31, 2019', '2019', inplace=True)\n",
        "    \n",
        "        elif i == 'Jun 30, 2020':\n",
        "            test.contract_until.replace('Jun 30, 2020', '2020', inplace=True)\n",
        "    \n",
        "        elif i == 'May 31, 2019':\n",
        "            test.contract_until.replace('May 31, 2019', '2019', inplace=True)\n",
        "\n",
        "        elif i == 'May 31, 2020':\n",
        "            test.contract_until.replace('May 31, 2020', '2020', inplace=True)\n",
        "\n",
        "        elif i == 'Jan 31, 2019':\n",
        "            test.contract_until.replace('Jan 31, 2019', '2019', inplace=True)\n",
        "\n",
        "        elif i == 'Jun 1, 2019':\n",
        "            test.contract_until.replace('Jun 1, 2019', '2019', inplace=True)\n",
        "\n",
        "        elif i == 'Jan 1, 2019':\n",
        "            test.contract_until.replace('Jan 1, 2019', '2019', inplace=True)\n",
        "\n",
        "        else:\n",
        "            i==i\n",
        "\n",
        "    return test[col].astype(int)\n",
        "\n",
        "test['contract_until'] = contract('contract_until')\n",
        "\n",
        "# 계약만료 : 0 , 계약미만료 :1\n",
        "\n",
        "contract_test = []\n",
        "\n",
        "for i in test['contract_until']:\n",
        "\n",
        "    if i > 2020:\n",
        "        contract_test.append(1)\n",
        "\n",
        "    else:\n",
        "        contract_test.append(0)\n",
        "\n",
        "test['contract_until'] = pd.Series(contract_test)\n",
        "\n",
        "# 왼발 : 0 , 오른발 :1\n",
        "\n",
        "prefer_foot_test = []\n",
        "\n",
        "for x in test['prefer_foot']:\n",
        "\n",
        "    if x == 'right':\n",
        "        prefer_foot_test.append(1)\n",
        "\n",
        "    else:\n",
        "        prefer_foot_test.append(0)\n",
        "\n",
        "test['prefer_foot'] = pd.Series(prefer_foot_test)\n",
        "\n",
        "# Convert float to int\n",
        "test['reputation'] = test['reputation'].astype(int)"
      ],
      "execution_count": 112,
      "outputs": []
    },
    {
      "cell_type": "code",
      "metadata": {
        "id": "GrO6Grg0Z-bB"
      },
      "source": [
        "# 선수별 ID가 있기 때문에 col = name 제거\n",
        "train.drop(['name'],axis=1,inplace=True)\n",
        "test.drop(['name'],axis=1,inplace=True)"
      ],
      "execution_count": 113,
      "outputs": []
    },
    {
      "cell_type": "code",
      "metadata": {
        "colab": {
          "base_uri": "https://localhost:8080/"
        },
        "id": "IZ_GdjT2aNad",
        "outputId": "d46d31e4-7a07-446c-9bd1-fbdd7dde1c4d"
      },
      "source": [
        "# dtypes확인\n",
        "train.dtypes"
      ],
      "execution_count": 114,
      "outputs": [
        {
          "output_type": "execute_result",
          "data": {
            "text/plain": [
              "id                    int64\n",
              "age                   int64\n",
              "continent            object\n",
              "contract_until        int64\n",
              "position             object\n",
              "prefer_foot           int64\n",
              "reputation            int64\n",
              "stat_overall          int64\n",
              "stat_potential        int64\n",
              "stat_skill_moves    float64\n",
              "value               float64\n",
              "dtype: object"
            ]
          },
          "metadata": {
            "tags": []
          },
          "execution_count": 114
        }
      ]
    },
    {
      "cell_type": "code",
      "metadata": {
        "colab": {
          "base_uri": "https://localhost:8080/"
        },
        "id": "MOuXV06faOtN",
        "outputId": "ebb604eb-40b2-4c18-d10f-525923882246"
      },
      "source": [
        "# 결측치 확인 \n",
        "\n",
        "train.isnull().sum()"
      ],
      "execution_count": 115,
      "outputs": [
        {
          "output_type": "execute_result",
          "data": {
            "text/plain": [
              "id                  0\n",
              "age                 0\n",
              "continent           0\n",
              "contract_until      0\n",
              "position            0\n",
              "prefer_foot         0\n",
              "reputation          0\n",
              "stat_overall        0\n",
              "stat_potential      0\n",
              "stat_skill_moves    0\n",
              "value               0\n",
              "dtype: int64"
            ]
          },
          "metadata": {
            "tags": []
          },
          "execution_count": 115
        }
      ]
    },
    {
      "cell_type": "markdown",
      "metadata": {
        "id": "msHCKrb-c5Jl"
      },
      "source": [
        "# 베이스라인 모델\n",
        "\n",
        "- MAE_base = 3076644"
      ]
    },
    {
      "cell_type": "code",
      "metadata": {
        "colab": {
          "base_uri": "https://localhost:8080/"
        },
        "id": "exEhrCzobAru",
        "outputId": "ca578ed1-5220-42f4-b674-6114b02179f4"
      },
      "source": [
        "y_mean_pred = train['value'].mean()\n",
        "errors = train['value'] - y_mean_pred\n",
        "\n",
        "MAE = errors.abs().mean()\n",
        "print(MAE)"
      ],
      "execution_count": 116,
      "outputs": [
        {
          "output_type": "stream",
          "text": [
            "3076644.337602046\n"
          ],
          "name": "stdout"
        }
      ]
    },
    {
      "cell_type": "code",
      "metadata": {
        "colab": {
          "base_uri": "https://localhost:8080/",
          "height": 513
        },
        "id": "DTHcUvcMb7Px",
        "outputId": "8e1d74ff-90b3-4023-bc4c-8b1f8656eb31"
      },
      "source": [
        "# 평균기준 모델\n",
        "import seaborn as sns\n",
        "sns.lineplot(x=train['stat_overall'], y=y_mean_pred, color = 'red')\n",
        "sns.scatterplot(x=train['stat_overall'],y = train['value'], color = 'blue');"
      ],
      "execution_count": 117,
      "outputs": [
        {
          "output_type": "display_data",
          "data": {
            "image/png": "[encoded data removed]",
            "text/plain": [
              "<Figure size 1440x576 with 1 Axes>"
            ]
          },
          "metadata": {
            "tags": []
          }
        }
      ]
    },
    {
      "cell_type": "markdown",
      "metadata": {
        "id": "qq6P_fFCc8bE"
      },
      "source": [
        "# 모델링\n",
        "- MAE : 194074\n",
        "- RMSE : 665132"
      ]
    },
    {
      "cell_type": "code",
      "metadata": {
        "collapsed": true,
        "id": "eCE03gtCdEAi"
      },
      "source": [
        "# !pip install category_encoders"
      ],
      "execution_count": 118,
      "outputs": []
    },
    {
      "cell_type": "code",
      "metadata": {
        "id": "hk8vx_3QdCyQ"
      },
      "source": [
        "from sklearn.model_selection import train_test_split\n",
        "\n",
        "train1, val = train_test_split(train, test_size = 0.2, train_size = 0.8, random_state = 2)\n",
        "\n",
        "features = train.columns.drop(['value'])\n",
        "target = 'value'\n",
        "\n",
        "X_train = train1[features]\n",
        "y_train = train1[target]\n",
        "\n",
        "X_val = val[features]\n",
        "y_val = val[target]"
      ],
      "execution_count": 119,
      "outputs": []
    },
    {
      "cell_type": "code",
      "metadata": {
        "colab": {
          "base_uri": "https://localhost:8080/"
        },
        "id": "YqvHO6PMdIfQ",
        "outputId": "48c1d75e-e5d6-47ea-c739-051090c7e704"
      },
      "source": [
        "from sklearn.pipeline import make_pipeline\n",
        "from category_encoders import OrdinalEncoder\n",
        "from sklearn.impute import SimpleImputer\n",
        "from sklearn.ensemble import RandomForestRegressor\n",
        "from sklearn.compose import TransformedTargetRegressor\n",
        "from sklearn.metrics import mean_absolute_error\n",
        "\n",
        "pipe = make_pipeline(\n",
        "    OrdinalEncoder(),\n",
        "    SimpleImputer(),\n",
        "    RandomForestRegressor(random_state=2)\n",
        ")\n",
        "\n",
        "TTR = TransformedTargetRegressor(regressor=pipe,\n",
        "                                func=np.log1p, inverse_func=np.expm1)\n",
        "\n",
        "TTR.fit(X_train, y_train)\n",
        "\n",
        "print(TTR.score(X_train, y_train))\n",
        "print(TTR.score(X_val, y_val))"
      ],
      "execution_count": 120,
      "outputs": [
        {
          "output_type": "stream",
          "text": [
            "0.9957455819938817\n",
            "0.9881407825803926\n"
          ],
          "name": "stdout"
        }
      ]
    },
    {
      "cell_type": "code",
      "metadata": {
        "colab": {
          "base_uri": "https://localhost:8080/"
        },
        "id": "frEFcoWIdapo",
        "outputId": "9efb41ab-0a5e-40bd-ff8f-331ab8527e28"
      },
      "source": [
        "y_v_pred = TTR.predict(X_val)\n",
        "\n",
        "print(f'MAE : {mean_absolute_error(y_val,y_v_pred)}')\n",
        "print(f'RMSE : {mean_squared_error(y_val,y_v_pred)**0.5}')"
      ],
      "execution_count": 226,
      "outputs": [
        {
          "output_type": "stream",
          "text": [
            "MAE : 194074.29875649215\n",
            "RMSE : 665132.8198347191\n"
          ],
          "name": "stdout"
        }
      ]
    },
    {
      "cell_type": "markdown",
      "metadata": {
        "id": "cUuZCQa-fHmQ"
      },
      "source": [
        "# 시각화"
      ]
    },
    {
      "cell_type": "code",
      "metadata": {
        "colab": {
          "base_uri": "https://localhost:8080/",
          "height": 489
        },
        "id": "6gWX0VzWfJIw",
        "outputId": "1399ee73-9237-4fa2-e020-9bc7b29683ec"
      },
      "source": [
        "# target과 다른 feature간의 상관계수 \n",
        "# 뒤에 보면 알 수 있지만, 역시 상관계수가 높다고 좋은 특성은 아님을 보여주는거 같다 \n",
        "\n",
        "sns.heatmap(train.corr()[['value']].sort_values(by='value', ascending=False),annot=True, cmap=\"magma_r\");"
      ],
      "execution_count": 122,
      "outputs": [
        {
          "output_type": "display_data",
          "data": {
            "image/png": "[encoded data removed]",
            "text/plain": [
              "<Figure size 1440x576 with 2 Axes>"
            ]
          },
          "metadata": {
            "tags": []
          }
        }
      ]
    },
    {
      "cell_type": "code",
      "metadata": {
        "colab": {
          "base_uri": "https://localhost:8080/",
          "height": 601
        },
        "id": "AY6PIxfCgFnz",
        "outputId": "50b150dc-f70e-4f2b-d603-ca44c07860ab"
      },
      "source": [
        "sns.set(style='whitegrid', context='notebook')\n",
        "\n",
        "cols = ['reputation','stat_overall','stat_potential','value']\n",
        "sns.pairplot(train[cols],height=2)"
      ],
      "execution_count": 123,
      "outputs": [
        {
          "output_type": "execute_result",
          "data": {
            "text/plain": [
              "<seaborn.axisgrid.PairGrid at 0x7fd014d39490>"
            ]
          },
          "metadata": {
            "tags": []
          },
          "execution_count": 123
        },
        {
          "output_type": "display_data",
          "data": {
            "image/png": "[encoded data removed]",
            "text/plain": [
              "<Figure size 576x576 with 20 Axes>"
            ]
          },
          "metadata": {
            "tags": []
          }
        }
      ]
    },
    {
      "cell_type": "code",
      "metadata": {
        "colab": {
          "base_uri": "https://localhost:8080/",
          "height": 536
        },
        "id": "pjPKaqdqgaEL",
        "outputId": "493d25af-3931-46ed-9f19-c73f5b281f79"
      },
      "source": [
        "import matplotlib.pyplot as plt\n",
        "\n",
        "fig, ax = plt.subplots(1, 3)\n",
        "plt.rcParams[\"figure.figsize\"] = (20,8)\n",
        "plt.rcParams[\"font.size\"] = 15\n",
        "\n",
        "sns.lineplot(x = train['stat_overall'], y = train[target], ax=ax[0]);\n",
        "sns.lineplot(x = train['stat_potential'], y = train[target], color='orange',ax=ax[1]);\n",
        "sns.lineplot(x = train['reputation'], y = train[target], color='red',ax=ax[2]);\n",
        "\n",
        "ax[0].set_title('Title : Overall')\n",
        "ax[1].set_title('Title : Potential')\n",
        "ax[2].set_title('Title : Reputation')"
      ],
      "execution_count": 124,
      "outputs": [
        {
          "output_type": "execute_result",
          "data": {
            "text/plain": [
              "Text(0.5, 1.0, 'Title : Reputation')"
            ]
          },
          "metadata": {
            "tags": []
          },
          "execution_count": 124
        },
        {
          "output_type": "display_data",
          "data": {
            "image/png": "[encoded data removed]",
            "text/plain": [
              "<Figure size 1440x576 with 3 Axes>"
            ]
          },
          "metadata": {
            "tags": []
          }
        }
      ]
    },
    {
      "cell_type": "markdown",
      "metadata": {
        "id": "MsRNMevhUp6E"
      },
      "source": [
        "# 2) Xgboost를 사용해 학습하고 기존 모델과 비교해 보세요.\n",
        "- 본인 포트폴리오 데이터를 Xgboost로 학습하여 기존에 만들었던 모델과 비교합니다.\n",
        "- **breast cancer 데이터를 Xgboost로 학습하고 f1 score를 제출하세요.(test 데이터에서 0.95이상)**"
      ]
    },
    {
      "cell_type": "markdown",
      "metadata": {
        "id": "VV079YrtUp6E"
      },
      "source": [
        "# (본인 포트폴리오 과제) 이곳에서 과제를 진행해 주세요\n",
        "- RandomForestRegressor 모델보다 MAE가 더 작아졌다. \n",
        "- 하지만 검증세트에 대한 정확도는 아주 조금 떨어졌다.\n",
        "- MAE_XGB  : 161497\n",
        "- RMSE_XGB : 726490"
      ]
    },
    {
      "cell_type": "code",
      "metadata": {
        "id": "LbGphygjpiiF"
      },
      "source": [
        "from xgboost import XGBRegressor\n",
        "from sklearn.pipeline import Pipeline\n",
        "\n",
        "pipe_xgb = Pipeline([\n",
        "                     ('preprocessing', make_pipeline(OrdinalEncoder(), SimpleImputer())),\n",
        "                     ('XGBR', XGBRegressor(n_estimators=200,\n",
        "                                           objective='reg:squarederror',\n",
        "                                           random_state=2,\n",
        "                                           n_jobs=-1,\n",
        "                                           max_depth=7,\n",
        "                                           learning_rate=0.2))])\n",
        "\n",
        "pipe_xgb.fit(X_train, y_train);"
      ],
      "execution_count": 126,
      "outputs": []
    },
    {
      "cell_type": "code",
      "metadata": {
        "colab": {
          "base_uri": "https://localhost:8080/"
        },
        "id": "zrq0d4cmAcjD",
        "outputId": "23db25e3-859e-464b-8fb8-eca6be82d686"
      },
      "source": [
        "pipe_xgb.get_params().keys()"
      ],
      "execution_count": 129,
      "outputs": [
        {
          "output_type": "execute_result",
          "data": {
            "text/plain": [
              "dict_keys(['memory', 'steps', 'verbose', 'preprocessing', 'XGBR', 'preprocessing__memory', 'preprocessing__steps', 'preprocessing__verbose', 'preprocessing__ordinalencoder', 'preprocessing__simpleimputer', 'preprocessing__ordinalencoder__cols', 'preprocessing__ordinalencoder__drop_invariant', 'preprocessing__ordinalencoder__handle_missing', 'preprocessing__ordinalencoder__handle_unknown', 'preprocessing__ordinalencoder__mapping', 'preprocessing__ordinalencoder__return_df', 'preprocessing__ordinalencoder__verbose', 'preprocessing__simpleimputer__add_indicator', 'preprocessing__simpleimputer__copy', 'preprocessing__simpleimputer__fill_value', 'preprocessing__simpleimputer__missing_values', 'preprocessing__simpleimputer__strategy', 'preprocessing__simpleimputer__verbose', 'XGBR__base_score', 'XGBR__booster', 'XGBR__colsample_bylevel', 'XGBR__colsample_bynode', 'XGBR__colsample_bytree', 'XGBR__gamma', 'XGBR__importance_type', 'XGBR__learning_rate', 'XGBR__max_delta_step', 'XGBR__max_depth', 'XGBR__min_child_weight', 'XGBR__missing', 'XGBR__n_estimators', 'XGBR__n_jobs', 'XGBR__nthread', 'XGBR__objective', 'XGBR__random_state', 'XGBR__reg_alpha', 'XGBR__reg_lambda', 'XGBR__scale_pos_weight', 'XGBR__seed', 'XGBR__silent', 'XGBR__subsample', 'XGBR__verbosity'])"
            ]
          },
          "metadata": {
            "tags": []
          },
          "execution_count": 129
        }
      ]
    },
    {
      "cell_type": "code",
      "metadata": {
        "colab": {
          "base_uri": "https://localhost:8080/"
        },
        "id": "Sc--2y2SsHWD",
        "outputId": "2902f04e-40de-4bef-8f65-550b8c1d3c8f"
      },
      "source": [
        "print(pipe_xgb.score(X_train, y_train))\n",
        "print(pipe_xgb.score(X_val, y_val))"
      ],
      "execution_count": 130,
      "outputs": [
        {
          "output_type": "stream",
          "text": [
            "0.9998930993450933\n",
            "0.9858518846754473\n"
          ],
          "name": "stdout"
        }
      ]
    },
    {
      "cell_type": "code",
      "metadata": {
        "colab": {
          "base_uri": "https://localhost:8080/"
        },
        "id": "lGAYJJYorY5L",
        "outputId": "a0c875ed-9473-4a46-b2c6-fa8d33db4091"
      },
      "source": [
        "y_pred = pipe_xgb.predict(X_val)\n",
        "\n",
        "print(f'MAE_XGB : {mean_absolute_error(y_val,y_pred)}')\n",
        "print(f'RMSE_XGB : {mean_squared_error(y_val,y_pred)**0.5}')"
      ],
      "execution_count": 225,
      "outputs": [
        {
          "output_type": "stream",
          "text": [
            "MAE_XGB : 161497.34226985477\n",
            "RMSE_XGB : 726490.0287196866\n"
          ],
          "name": "stdout"
        }
      ]
    },
    {
      "cell_type": "markdown",
      "metadata": {
        "id": "flM9PQBLpdnI"
      },
      "source": [
        "# (제출폼 과제) 이곳에서 과제를 진행해 주세요\n"
      ]
    },
    {
      "cell_type": "code",
      "metadata": {
        "id": "4mpRf0J9Up6E"
      },
      "source": [
        "from sklearn.datasets import load_breast_cancer \n",
        "\n",
        "cancer_dataset = load_breast_cancer()\n",
        "\n",
        "features1 = cancer_dataset.data\n",
        "target1 = cancer_dataset.target\n",
        "df = pd.DataFrame(data=features1, columns=cancer_dataset.feature_names)\n",
        "df['target'] = target1"
      ],
      "execution_count": 136,
      "outputs": []
    },
    {
      "cell_type": "code",
      "metadata": {
        "id": "DhwKDnAB2hOn"
      },
      "source": [
        "train_, test_ = train_test_split(df, test_size=0.2, random_state=2)"
      ],
      "execution_count": 137,
      "outputs": []
    },
    {
      "cell_type": "code",
      "metadata": {
        "id": "8ECPLKqZ2tx2"
      },
      "source": [
        "t_rain, v_al = train_test_split(train_, test_size=0.2, random_state=2)"
      ],
      "execution_count": 138,
      "outputs": []
    },
    {
      "cell_type": "code",
      "metadata": {
        "id": "0J9nUA6x2x6-"
      },
      "source": [
        "f = df.columns.drop(['target'])\n",
        "t = 'target'\n",
        "\n",
        "xtrain = t_rain[f]\n",
        "ytrain = t_rain[t]\n",
        "\n",
        "xval = v_al[f]\n",
        "yval = v_al[t]\n",
        "\n",
        "xtest = test_[f]\n",
        "ytest = test_[t]"
      ],
      "execution_count": 139,
      "outputs": []
    },
    {
      "cell_type": "code",
      "metadata": {
        "id": "7CO3bPH8nPPD"
      },
      "source": [
        "from xgboost import XGBClassifier\n",
        "from sklearn.pipeline import Pipeline\n",
        "\n",
        "pipe_1 = Pipeline([\n",
        "    ('preprocessing', make_pipeline(OrdinalEncoder(), SimpleImputer(strategy='mean'))),\n",
        "    ('xgb', XGBClassifier(n_estimators=200\n",
        "                  , random_state=2\n",
        "                  , n_jobs=-1\n",
        "                  , max_depth=7\n",
        "                  , learning_rate=0.2))])\n",
        "\n",
        "pipe_1.fit(xtrain, ytrain);"
      ],
      "execution_count": 140,
      "outputs": []
    },
    {
      "cell_type": "code",
      "metadata": {
        "colab": {
          "base_uri": "https://localhost:8080/"
        },
        "id": "KOzDwiMK8QqW",
        "outputId": "ecd67218-13d9-4dff-dbd2-3e2218519e9d"
      },
      "source": [
        "pipe_1.named_steps"
      ],
      "execution_count": 141,
      "outputs": [
        {
          "output_type": "execute_result",
          "data": {
            "text/plain": [
              "{'preprocessing': Pipeline(memory=None,\n",
              "          steps=[('ordinalencoder',\n",
              "                  OrdinalEncoder(cols=[], drop_invariant=False,\n",
              "                                 handle_missing='value', handle_unknown='value',\n",
              "                                 mapping=[], return_df=True, verbose=0)),\n",
              "                 ('simpleimputer',\n",
              "                  SimpleImputer(add_indicator=False, copy=True, fill_value=None,\n",
              "                                missing_values=nan, strategy='mean',\n",
              "                                verbose=0))],\n",
              "          verbose=False),\n",
              " 'xgb': XGBClassifier(base_score=0.5, booster='gbtree', colsample_bylevel=1,\n",
              "               colsample_bynode=1, colsample_bytree=1, gamma=0,\n",
              "               learning_rate=0.2, max_delta_step=0, max_depth=7,\n",
              "               min_child_weight=1, missing=None, n_estimators=200, n_jobs=-1,\n",
              "               nthread=None, objective='binary:logistic', random_state=2,\n",
              "               reg_alpha=0, reg_lambda=1, scale_pos_weight=1, seed=None,\n",
              "               silent=None, subsample=1, verbosity=1)}"
            ]
          },
          "metadata": {
            "tags": []
          },
          "execution_count": 141
        }
      ]
    },
    {
      "cell_type": "code",
      "metadata": {
        "colab": {
          "base_uri": "https://localhost:8080/"
        },
        "id": "Y3rZx-RlnYBF",
        "outputId": "48b875ef-7d3b-4fae-c397-a6f4c59e3057"
      },
      "source": [
        "from sklearn.metrics import accuracy_score\n",
        "from sklearn.metrics import classification_report\n",
        "\n",
        "ypred = pipe_1.predict(xval)\n",
        "\n",
        "print('검증 정확도: ', accuracy_score(yval, ypred))\n",
        "print(classification_report(ypred, yval))"
      ],
      "execution_count": 142,
      "outputs": [
        {
          "output_type": "stream",
          "text": [
            "검증 정확도:  0.989010989010989\n",
            "              precision    recall  f1-score   support\n",
            "\n",
            "           0       1.00      0.97      0.99        34\n",
            "           1       0.98      1.00      0.99        57\n",
            "\n",
            "    accuracy                           0.99        91\n",
            "   macro avg       0.99      0.99      0.99        91\n",
            "weighted avg       0.99      0.99      0.99        91\n",
            "\n"
          ],
          "name": "stdout"
        }
      ]
    },
    {
      "cell_type": "code",
      "metadata": {
        "colab": {
          "base_uri": "https://localhost:8080/"
        },
        "id": "HZ56yh2e3sbK",
        "outputId": "6a048b45-f9f3-4a08-f8ea-c361f9f6dfd4"
      },
      "source": [
        "from sklearn.metrics import f1_score\n",
        "\n",
        "y2pred = pipe_1.predict(xtest)\n",
        "\n",
        "print(f'검증 정확도 = {accuracy_score(ytest, y2pred)}')\n",
        "print(f'F_Score = {f1_score(ytest,y2pred):.2f}')"
      ],
      "execution_count": 143,
      "outputs": [
        {
          "output_type": "stream",
          "text": [
            "검증 정확도 = 0.9473684210526315\n",
            "F_Score = 0.96\n"
          ],
          "name": "stdout"
        }
      ]
    },
    {
      "cell_type": "markdown",
      "metadata": {
        "id": "c_bcHyT3Up6F"
      },
      "source": [
        "# 3) Permutation importances를 계산하고 다른 중요도 결과와 비교해 보세요\n",
        "- 본인 포트폴리오 데이터를 사용해 만든 모델의 Permutation importances를 계산하세요.\n",
        "- **breast cancer 데이터를 사용해 만든 모델의 Permutation importances를 계산하고 가장 높은 값을 가지는 특성의 이름을 과제 제출폼에 제출하세요.**\n",
        "    - eli5 PermutationImportance 사용\n",
        "    - scoring = 'accuracy'\n",
        "    - n_iter = 5\n",
        "    - random_state = 2"
      ]
    },
    {
      "cell_type": "code",
      "metadata": {
        "colab": {
          "base_uri": "https://localhost:8080/"
        },
        "collapsed": true,
        "id": "PzB8TX0StUqO",
        "outputId": "ed50b13a-20fe-4b11-f7c3-7013e73c4278"
      },
      "source": [
        "!pip install eli5 "
      ],
      "execution_count": 34,
      "outputs": [
        {
          "output_type": "stream",
          "text": [
            "Collecting eli5\n",
            "\u001b[?25l  Downloading https://files.pythonhosted.org/packages/d1/54/04cab6e1c0ae535bec93f795d8403fdf6caf66fa5a6512263202dbb14ea6/eli5-0.11.0-py2.py3-none-any.whl (106kB)\n",
            "\r\u001b[K     |███                             | 10kB 13.0MB/s eta 0:00:01\r\u001b[K     |██████▏                         | 20kB 18.5MB/s eta 0:00:01\r\u001b[K     |█████████▎                      | 30kB 19.3MB/s eta 0:00:01\r\u001b[K     |████████████▍                   | 40kB 15.4MB/s eta 0:00:01\r\u001b[K     |███████████████▌                | 51kB 8.8MB/s eta 0:00:01\r\u001b[K     |██████████████████▌             | 61kB 10.0MB/s eta 0:00:01\r\u001b[K     |█████████████████████▋          | 71kB 8.4MB/s eta 0:00:01\r\u001b[K     |████████████████████████▊       | 81kB 9.2MB/s eta 0:00:01\r\u001b[K     |███████████████████████████▉    | 92kB 9.4MB/s eta 0:00:01\r\u001b[K     |███████████████████████████████ | 102kB 8.1MB/s eta 0:00:01\r\u001b[K     |████████████████████████████████| 112kB 8.1MB/s \n",
            "\u001b[?25hRequirement already satisfied: tabulate>=0.7.7 in /usr/local/lib/python3.7/dist-packages (from eli5) (0.8.9)\n",
            "Requirement already satisfied: jinja2 in /usr/local/lib/python3.7/dist-packages (from eli5) (2.11.3)\n",
            "Requirement already satisfied: scipy in /usr/local/lib/python3.7/dist-packages (from eli5) (1.4.1)\n",
            "Requirement already satisfied: attrs>16.0.0 in /usr/local/lib/python3.7/dist-packages (from eli5) (21.2.0)\n",
            "Requirement already satisfied: scikit-learn>=0.20 in /usr/local/lib/python3.7/dist-packages (from eli5) (0.22.2.post1)\n",
            "Requirement already satisfied: six in /usr/local/lib/python3.7/dist-packages (from eli5) (1.15.0)\n",
            "Requirement already satisfied: numpy>=1.9.0 in /usr/local/lib/python3.7/dist-packages (from eli5) (1.19.5)\n",
            "Requirement already satisfied: graphviz in /usr/local/lib/python3.7/dist-packages (from eli5) (0.10.1)\n",
            "Requirement already satisfied: MarkupSafe>=0.23 in /usr/local/lib/python3.7/dist-packages (from jinja2->eli5) (2.0.1)\n",
            "Requirement already satisfied: joblib>=0.11 in /usr/local/lib/python3.7/dist-packages (from scikit-learn>=0.20->eli5) (1.0.1)\n",
            "Installing collected packages: eli5\n",
            "Successfully installed eli5-0.11.0\n"
          ],
          "name": "stdout"
        }
      ]
    },
    {
      "cell_type": "markdown",
      "metadata": {
        "id": "eRnBpGuztZWR"
      },
      "source": [
        "# (본인 포트폴리오 과제) 이곳에서 과제를 진행해 주세요\n",
        "> XGBRegressor - 일단 가장 좋은 성능을 보여주었다.\n",
        "- MAE_XGB2 : 157727\n",
        "- RMSE_XGB2 : 695277"
      ]
    },
    {
      "cell_type": "code",
      "metadata": {
        "id": "Hpes1-WgUp6F",
        "colab": {
          "base_uri": "https://localhost:8080/"
        },
        "outputId": "0b8a4a91-8469-4ef8-b313-b0e3df4cf85e"
      },
      "source": [
        "import warnings\n",
        "warnings.simplefilter(action='ignore', category=FutureWarning)\n",
        "\n",
        "import eli5\n",
        "from eli5.sklearn import PermutationImportance\n",
        "# permuter 정의\n",
        "\n",
        "permuter = PermutationImportance(\n",
        "    pipe_xgb.named_steps['XGBR'], # model\n",
        "    scoring='neg_mean_squared_error', # metric\n",
        "    n_iter=5, # 다른 random seed를 사용하여 5번 반복\n",
        "    random_state=2\n",
        ")\n",
        "\n",
        "# permuter 계산은 preprocessing 된 X_val을 사용합니다.\n",
        "X_val_transformed = pipe_xgb.named_steps['preprocessing'].transform(X_val)\n",
        "\n",
        "# 실제로 fit 의미보다는 스코어를 다시 계산하는 작업입니다\n",
        "permuter.fit(X_val_transformed, y_val)"
      ],
      "execution_count": 160,
      "outputs": [
        {
          "output_type": "execute_result",
          "data": {
            "text/plain": [
              "PermutationImportance(cv='prefit',\n",
              "                      estimator=XGBRegressor(base_score=0.5, booster='gbtree',\n",
              "                                             colsample_bylevel=1,\n",
              "                                             colsample_bynode=1,\n",
              "                                             colsample_bytree=1, gamma=0,\n",
              "                                             importance_type='gain',\n",
              "                                             learning_rate=0.2,\n",
              "                                             max_delta_step=0, max_depth=7,\n",
              "                                             min_child_weight=1, missing=None,\n",
              "                                             n_estimators=200, n_jobs=-1,\n",
              "                                             nthread=None,\n",
              "                                             objective='reg:squarederror',\n",
              "                                             random_state=2, reg_alpha=0,\n",
              "                                             reg_lambda=1, scale_pos_weight=1,\n",
              "                                             seed=None, silent=None,\n",
              "                                             subsample=1, verbosity=1),\n",
              "                      n_iter=5, random_state=2, refit=True,\n",
              "                      scoring='neg_mean_squared_error')"
            ]
          },
          "metadata": {
            "tags": []
          },
          "execution_count": 160
        }
      ]
    },
    {
      "cell_type": "code",
      "metadata": {
        "colab": {
          "base_uri": "https://localhost:8080/"
        },
        "id": "dXb2ZrLsEQIn",
        "outputId": "f2d3e65c-df4f-4e0c-ebb7-2fc33f5bb0a6"
      },
      "source": [
        "features_names = X_val.columns.tolist()\n",
        "pd.Series(permuter.feature_importances_, features_names).sort_values()"
      ],
      "execution_count": 161,
      "outputs": [
        {
          "output_type": "execute_result",
          "data": {
            "text/plain": [
              "contract_until     -3.443262e+10\n",
              "continent          -2.363763e+10\n",
              "stat_overall        0.000000e+00\n",
              "prefer_foot         1.611445e+10\n",
              "reputation          3.432368e+10\n",
              "stat_skill_moves    3.108004e+11\n",
              "position            3.453952e+11\n",
              "stat_potential      1.650746e+12\n",
              "age                 2.084387e+12\n",
              "id                  5.875200e+13\n",
              "dtype: float64"
            ]
          },
          "metadata": {
            "tags": []
          },
          "execution_count": 161
        }
      ]
    },
    {
      "cell_type": "code",
      "metadata": {
        "colab": {
          "base_uri": "https://localhost:8080/",
          "height": 204
        },
        "id": "_SbYoMqoEW_Z",
        "outputId": "2f2aac17-ea83-46c5-f760-7a5a8c7a89c1"
      },
      "source": [
        "# 특성별 score 확인\n",
        "eli5.show_weights(\n",
        "    permuter, \n",
        "    top=None, # top n 지정 가능, None 일 경우 모든 특성 \n",
        "    feature_names=features_names # list 형식으로 넣어야 합니다\n",
        ")\n",
        "# id는 선수 고유 번호이기에 가장 좋은 특성이라고 보기 힘들거같다."
      ],
      "execution_count": 162,
      "outputs": [
        {
          "output_type": "execute_result",
          "data": {
            "text/html": [
              "\n",
              "    <style>\n",
              "    table.eli5-weights tr:hover {\n",
              "        filter: brightness(85%);\n",
              "    }\n",
              "</style>\n",
              "\n",
              "\n",
              "\n",
              "    \n",
              "\n",
              "    \n",
              "\n",
              "    \n",
              "\n",
              "    \n",
              "\n",
              "    \n",
              "\n",
              "    \n",
              "\n",
              "\n",
              "    \n",
              "\n",
              "    \n",
              "\n",
              "    \n",
              "\n",
              "    \n",
              "\n",
              "    \n",
              "\n",
              "    \n",
              "\n",
              "\n",
              "    \n",
              "\n",
              "    \n",
              "\n",
              "    \n",
              "\n",
              "    \n",
              "\n",
              "    \n",
              "        <table class=\"eli5-weights eli5-feature-importances\" style=\"border-collapse: collapse; border: none; margin-top: 0em; table-layout: auto;\">\n",
              "    <thead>\n",
              "    <tr style=\"border: none;\">\n",
              "        <th style=\"padding: 0 1em 0 0.5em; text-align: right; border: none;\">Weight</th>\n",
              "        <th style=\"padding: 0 0.5em 0 0.5em; text-align: left; border: none;\">Feature</th>\n",
              "    </tr>\n",
              "    </thead>\n",
              "    <tbody>\n",
              "    \n",
              "        <tr style=\"background-color: hsl(120, 100.00%, 80.00%); border: none;\">\n",
              "            <td style=\"padding: 0 1em 0 0.5em; text-align: right; border: none;\">\n",
              "                58751999151399.4219\n",
              "                \n",
              "                    &plusmn; 3818007537434.4253\n",
              "                \n",
              "            </td>\n",
              "            <td style=\"padding: 0 0.5em 0 0.5em; text-align: left; border: none;\">\n",
              "                id\n",
              "            </td>\n",
              "        </tr>\n",
              "    \n",
              "        <tr style=\"background-color: hsl(120, 100.00%, 98.07%); border: none;\">\n",
              "            <td style=\"padding: 0 1em 0 0.5em; text-align: right; border: none;\">\n",
              "                2084386641653.8027\n",
              "                \n",
              "                    &plusmn; 1224486178563.1421\n",
              "                \n",
              "            </td>\n",
              "            <td style=\"padding: 0 0.5em 0 0.5em; text-align: left; border: none;\">\n",
              "                age\n",
              "            </td>\n",
              "        </tr>\n",
              "    \n",
              "        <tr style=\"background-color: hsl(120, 100.00%, 98.36%); border: none;\">\n",
              "            <td style=\"padding: 0 1em 0 0.5em; text-align: right; border: none;\">\n",
              "                1650746001666.6919\n",
              "                \n",
              "                    &plusmn; 59285079153.9460\n",
              "                \n",
              "            </td>\n",
              "            <td style=\"padding: 0 0.5em 0 0.5em; text-align: left; border: none;\">\n",
              "                stat_potential\n",
              "            </td>\n",
              "        </tr>\n",
              "    \n",
              "        <tr style=\"background-color: hsl(120, 100.00%, 99.45%); border: none;\">\n",
              "            <td style=\"padding: 0 1em 0 0.5em; text-align: right; border: none;\">\n",
              "                345395178347.1757\n",
              "                \n",
              "                    &plusmn; 146644127860.8030\n",
              "                \n",
              "            </td>\n",
              "            <td style=\"padding: 0 0.5em 0 0.5em; text-align: left; border: none;\">\n",
              "                position\n",
              "            </td>\n",
              "        </tr>\n",
              "    \n",
              "        <tr style=\"background-color: hsl(120, 100.00%, 99.49%); border: none;\">\n",
              "            <td style=\"padding: 0 1em 0 0.5em; text-align: right; border: none;\">\n",
              "                310800379543.4698\n",
              "                \n",
              "                    &plusmn; 254928252514.4362\n",
              "                \n",
              "            </td>\n",
              "            <td style=\"padding: 0 0.5em 0 0.5em; text-align: left; border: none;\">\n",
              "                stat_skill_moves\n",
              "            </td>\n",
              "        </tr>\n",
              "    \n",
              "        <tr style=\"background-color: hsl(120, 100.00%, 99.89%); border: none;\">\n",
              "            <td style=\"padding: 0 1em 0 0.5em; text-align: right; border: none;\">\n",
              "                34323676183.7944\n",
              "                \n",
              "                    &plusmn; 9903963705.7719\n",
              "                \n",
              "            </td>\n",
              "            <td style=\"padding: 0 0.5em 0 0.5em; text-align: left; border: none;\">\n",
              "                reputation\n",
              "            </td>\n",
              "        </tr>\n",
              "    \n",
              "        <tr style=\"background-color: hsl(120, 100.00%, 99.94%); border: none;\">\n",
              "            <td style=\"padding: 0 1em 0 0.5em; text-align: right; border: none;\">\n",
              "                16114446149.7150\n",
              "                \n",
              "                    &plusmn; 32018889082.0474\n",
              "                \n",
              "            </td>\n",
              "            <td style=\"padding: 0 0.5em 0 0.5em; text-align: left; border: none;\">\n",
              "                prefer_foot\n",
              "            </td>\n",
              "        </tr>\n",
              "    \n",
              "        <tr style=\"background-color: hsl(0, 100.00%, 100.00%); border: none;\">\n",
              "            <td style=\"padding: 0 1em 0 0.5em; text-align: right; border: none;\">\n",
              "                0\n",
              "                \n",
              "                    &plusmn; 0.0000\n",
              "                \n",
              "            </td>\n",
              "            <td style=\"padding: 0 0.5em 0 0.5em; text-align: left; border: none;\">\n",
              "                stat_overall\n",
              "            </td>\n",
              "        </tr>\n",
              "    \n",
              "        <tr style=\"background-color: hsl(0, 100.00%, 99.92%); border: none;\">\n",
              "            <td style=\"padding: 0 1em 0 0.5em; text-align: right; border: none;\">\n",
              "                -23637633255.0141\n",
              "                \n",
              "                    &plusmn; 44203632646.8166\n",
              "                \n",
              "            </td>\n",
              "            <td style=\"padding: 0 0.5em 0 0.5em; text-align: left; border: none;\">\n",
              "                continent\n",
              "            </td>\n",
              "        </tr>\n",
              "    \n",
              "        <tr style=\"background-color: hsl(0, 100.00%, 99.89%); border: none;\">\n",
              "            <td style=\"padding: 0 1em 0 0.5em; text-align: right; border: none;\">\n",
              "                -34432617891.9990\n",
              "                \n",
              "                    &plusmn; 23318042205.6935\n",
              "                \n",
              "            </td>\n",
              "            <td style=\"padding: 0 0.5em 0 0.5em; text-align: left; border: none;\">\n",
              "                contract_until\n",
              "            </td>\n",
              "        </tr>\n",
              "    \n",
              "    \n",
              "    </tbody>\n",
              "</table>\n",
              "    \n",
              "\n",
              "    \n",
              "\n",
              "\n",
              "    \n",
              "\n",
              "    \n",
              "\n",
              "    \n",
              "\n",
              "    \n",
              "\n",
              "    \n",
              "\n",
              "    \n",
              "\n",
              "\n",
              "\n"
            ],
            "text/plain": [
              "<IPython.core.display.HTML object>"
            ]
          },
          "metadata": {
            "tags": []
          },
          "execution_count": 162
        }
      ]
    },
    {
      "cell_type": "code",
      "metadata": {
        "colab": {
          "base_uri": "https://localhost:8080/",
          "height": 513
        },
        "id": "R-XWiXoFGi4e",
        "outputId": "b7fcd120-4475-40e7-a04c-a2c406baca61"
      },
      "source": [
        "sns.lineplot(x = train['age'], y = train[target], ci = None);"
      ],
      "execution_count": 168,
      "outputs": [
        {
          "output_type": "display_data",
          "data": {
            "image/png": "[encoded data removed]",
            "text/plain": [
              "<Figure size 1440x576 with 1 Axes>"
            ]
          },
          "metadata": {
            "tags": []
          }
        }
      ]
    },
    {
      "cell_type": "code",
      "metadata": {
        "colab": {
          "base_uri": "https://localhost:8080/",
          "height": 513
        },
        "id": "biNhKT_nHRMx",
        "outputId": "f8bf9aed-6273-453e-cfaf-d4c80ec40a76"
      },
      "source": [
        "sns.lineplot(x = train['position'], y = train[target],ci = None);"
      ],
      "execution_count": 169,
      "outputs": [
        {
          "output_type": "display_data",
          "data": {
            "image/png": "[encoded data removed]",
            "text/plain": [
              "<Figure size 1440x576 with 1 Axes>"
            ]
          },
          "metadata": {
            "tags": []
          }
        }
      ]
    },
    {
      "cell_type": "code",
      "metadata": {
        "colab": {
          "base_uri": "https://localhost:8080/"
        },
        "id": "-iE_GhFyKIfz",
        "outputId": "6173360c-3648-46b8-9a99-901d9ca87699"
      },
      "source": [
        "print('특성 삭제 전:', X_train.shape, X_val.shape)"
      ],
      "execution_count": 180,
      "outputs": [
        {
          "output_type": "stream",
          "text": [
            "특성 삭제 전: (7145, 10) (1787, 10)\n"
          ],
          "name": "stdout"
        }
      ]
    },
    {
      "cell_type": "code",
      "metadata": {
        "id": "XJ19a0-tJtQI"
      },
      "source": [
        "minimum_importance = 0\n",
        "mask = permuter.feature_importances_ >= minimum_importance\n",
        "new_features = X_train.columns[mask]\n",
        "X_train_selected = X_train[features]\n",
        "X_val_selected = X_val[features]"
      ],
      "execution_count": 182,
      "outputs": []
    },
    {
      "cell_type": "code",
      "metadata": {
        "colab": {
          "base_uri": "https://localhost:8080/"
        },
        "id": "s6V03g9bKGsM",
        "outputId": "9308cc3c-2c8a-4845-a551-5f2cbb0912f0"
      },
      "source": [
        "print('특성 삭제 후:', X_train_selected.shape, X_val_selected.shape)"
      ],
      "execution_count": 183,
      "outputs": [
        {
          "output_type": "stream",
          "text": [
            "특성 삭제 후: (7145, 7) (1787, 7)\n"
          ],
          "name": "stdout"
        }
      ]
    },
    {
      "cell_type": "code",
      "metadata": {
        "id": "2J2Z3i8oKUcN"
      },
      "source": [
        "# pipeline 다시 정의\n",
        "# objective : objective function이 최소화되는 방향으로 파라미터들을 조정 \n",
        "pipe_xgb2 = Pipeline([\n",
        "                     ('preprocessing', make_pipeline(OrdinalEncoder(), SimpleImputer())),\n",
        "                     ('XGBR', XGBRegressor(n_estimators=200,\n",
        "                                           objective='reg:squarederror',\n",
        "                                           random_state=2,\n",
        "                                           n_jobs=-1,\n",
        "                                           max_depth=7,\n",
        "                                           learning_rate=0.2))])\n",
        "\n",
        "pipe_xgb2.fit(X_train_selected, y_train);"
      ],
      "execution_count": 184,
      "outputs": []
    },
    {
      "cell_type": "code",
      "metadata": {
        "colab": {
          "base_uri": "https://localhost:8080/"
        },
        "id": "0QEytiHSKkWA",
        "outputId": "21235938-f0a5-4213-8d42-5f3cb617cbb1"
      },
      "source": [
        "print(pipe_xgb2.score(X_train_selected, y_train))\n",
        "print(pipe_xgb2.score(X_val_selected, y_val))"
      ],
      "execution_count": 185,
      "outputs": [
        {
          "output_type": "stream",
          "text": [
            "0.9998615832519452\n",
            "0.9870414685147899\n"
          ],
          "name": "stdout"
        }
      ]
    },
    {
      "cell_type": "code",
      "metadata": {
        "colab": {
          "base_uri": "https://localhost:8080/"
        },
        "id": "UY6rchsWK5p8",
        "outputId": "9b919bf8-6c6b-45f4-93ec-f42671aa0329"
      },
      "source": [
        "from sklearn.metrics import mean_squared_error\n",
        "\n",
        "y2_pred = pipe_xgb2.predict(X_val_selected)\n",
        "\n",
        "print(f'MAE_XGB2 : {mean_absolute_error(y_val,y2_pred)}')\n",
        "print(f'RMSE_XGB2 : {mean_squared_error(y_val,y2_pred)**0.5}')"
      ],
      "execution_count": 188,
      "outputs": [
        {
          "output_type": "stream",
          "text": [
            "MAE_XGB2 : 157727.5093105425\n",
            "RMSE_XGB2 : 695277.6297797532\n"
          ],
          "name": "stdout"
        }
      ]
    },
    {
      "cell_type": "markdown",
      "metadata": {
        "id": "m1JDujjKtRKL"
      },
      "source": [
        "#(제출폼 과제) 이곳에서 과제를 진행해 주세요\n"
      ]
    },
    {
      "cell_type": "code",
      "metadata": {
        "id": "wnMH5bquUp6F"
      },
      "source": [
        "import eli5\n",
        "from eli5.sklearn import PermutationImportance\n",
        "# permuter 정의\n",
        "\n",
        "permuter = PermutationImportance(\n",
        "    pipe_1.named_steps['xgb'], # model\n",
        "    scoring='accuracy', # metric\n",
        "    n_iter=5, # 다른 random seed를 사용하여 5번 반복\n",
        "    random_state=2\n",
        ")\n",
        "\n",
        "# permuter 계산은 preprocessing 된 X_val을 사용합니다.\n",
        "x_val_transformed = pipe_1.named_steps['preprocessing'].transform(xval)\n",
        "\n",
        "# 실제로 fit 의미보다는 스코어를 다시 계산하는 작업입니다\n",
        "permuter.fit(x_val_transformed, yval);"
      ],
      "execution_count": 146,
      "outputs": []
    },
    {
      "cell_type": "code",
      "metadata": {
        "colab": {
          "base_uri": "https://localhost:8080/"
        },
        "id": "14_gcq1I8Y_G",
        "outputId": "86ca0238-6b57-4ccc-dbc0-2174ca72ae43"
      },
      "source": [
        "feature_names = x_val.columns.tolist()\n",
        "pd.Series(permuter.feature_importances_, feature_names).sort_values()"
      ],
      "execution_count": 147,
      "outputs": [
        {
          "output_type": "execute_result",
          "data": {
            "text/plain": [
              "mean smoothness           -0.006593\n",
              "worst concavity           -0.004396\n",
              "worst smoothness          -0.004396\n",
              "mean radius                0.000000\n",
              "worst compactness          0.000000\n",
              "worst radius               0.000000\n",
              "fractal dimension error    0.000000\n",
              "symmetry error             0.000000\n",
              "concave points error       0.000000\n",
              "concavity error            0.000000\n",
              "compactness error          0.000000\n",
              "worst symmetry             0.000000\n",
              "smoothness error           0.000000\n",
              "worst fractal dimension    0.000000\n",
              "texture error              0.000000\n",
              "radius error               0.000000\n",
              "mean fractal dimension     0.000000\n",
              "mean symmetry              0.000000\n",
              "mean concavity             0.000000\n",
              "mean compactness           0.000000\n",
              "perimeter error            0.000000\n",
              "mean texture               0.000000\n",
              "mean area                  0.000000\n",
              "mean perimeter             0.000000\n",
              "mean concave points        0.006593\n",
              "worst perimeter            0.006593\n",
              "area error                 0.013187\n",
              "worst area                 0.013187\n",
              "worst concave points       0.015385\n",
              "worst texture              0.019780\n",
              "dtype: float64"
            ]
          },
          "metadata": {
            "tags": []
          },
          "execution_count": 147
        }
      ]
    },
    {
      "cell_type": "code",
      "metadata": {
        "colab": {
          "base_uri": "https://localhost:8080/",
          "height": 544
        },
        "id": "DZ7984xO8bme",
        "outputId": "8e0249bf-2ce5-4a61-ebd6-fe80bfca1db9"
      },
      "source": [
        "# 특성별 score 확인\n",
        "eli5.show_weights(\n",
        "    permuter, \n",
        "    top=None, # top n 지정 가능, None 일 경우 모든 특성 \n",
        "    feature_names=feature_names # list 형식으로 넣어야 합니다\n",
        ")"
      ],
      "execution_count": 99,
      "outputs": [
        {
          "output_type": "execute_result",
          "data": {
            "text/html": [
              "\n",
              "    <style>\n",
              "    table.eli5-weights tr:hover {\n",
              "        filter: brightness(85%);\n",
              "    }\n",
              "</style>\n",
              "\n",
              "\n",
              "\n",
              "    \n",
              "\n",
              "    \n",
              "\n",
              "    \n",
              "\n",
              "    \n",
              "\n",
              "    \n",
              "\n",
              "    \n",
              "\n",
              "\n",
              "    \n",
              "\n",
              "    \n",
              "\n",
              "    \n",
              "\n",
              "    \n",
              "\n",
              "    \n",
              "\n",
              "    \n",
              "\n",
              "\n",
              "    \n",
              "\n",
              "    \n",
              "\n",
              "    \n",
              "\n",
              "    \n",
              "\n",
              "    \n",
              "        <table class=\"eli5-weights eli5-feature-importances\" style=\"border-collapse: collapse; border: none; margin-top: 0em; table-layout: auto;\">\n",
              "    <thead>\n",
              "    <tr style=\"border: none;\">\n",
              "        <th style=\"padding: 0 1em 0 0.5em; text-align: right; border: none;\">Weight</th>\n",
              "        <th style=\"padding: 0 0.5em 0 0.5em; text-align: left; border: none;\">Feature</th>\n",
              "    </tr>\n",
              "    </thead>\n",
              "    <tbody>\n",
              "    \n",
              "        <tr style=\"background-color: hsl(120, 100.00%, 80.00%); border: none;\">\n",
              "            <td style=\"padding: 0 1em 0 0.5em; text-align: right; border: none;\">\n",
              "                0.0198\n",
              "                \n",
              "                    &plusmn; 0.0164\n",
              "                \n",
              "            </td>\n",
              "            <td style=\"padding: 0 0.5em 0 0.5em; text-align: left; border: none;\">\n",
              "                worst texture\n",
              "            </td>\n",
              "        </tr>\n",
              "    \n",
              "        <tr style=\"background-color: hsl(120, 100.00%, 83.23%); border: none;\">\n",
              "            <td style=\"padding: 0 1em 0 0.5em; text-align: right; border: none;\">\n",
              "                0.0154\n",
              "                \n",
              "                    &plusmn; 0.0224\n",
              "                \n",
              "            </td>\n",
              "            <td style=\"padding: 0 0.5em 0 0.5em; text-align: left; border: none;\">\n",
              "                worst concave points\n",
              "            </td>\n",
              "        </tr>\n",
              "    \n",
              "        <tr style=\"background-color: hsl(120, 100.00%, 84.94%); border: none;\">\n",
              "            <td style=\"padding: 0 1em 0 0.5em; text-align: right; border: none;\">\n",
              "                0.0132\n",
              "                \n",
              "                    &plusmn; 0.0215\n",
              "                \n",
              "            </td>\n",
              "            <td style=\"padding: 0 0.5em 0 0.5em; text-align: left; border: none;\">\n",
              "                worst area\n",
              "            </td>\n",
              "        </tr>\n",
              "    \n",
              "        <tr style=\"background-color: hsl(120, 100.00%, 84.94%); border: none;\">\n",
              "            <td style=\"padding: 0 1em 0 0.5em; text-align: right; border: none;\">\n",
              "                0.0132\n",
              "                \n",
              "                    &plusmn; 0.0164\n",
              "                \n",
              "            </td>\n",
              "            <td style=\"padding: 0 0.5em 0 0.5em; text-align: left; border: none;\">\n",
              "                area error\n",
              "            </td>\n",
              "        </tr>\n",
              "    \n",
              "        <tr style=\"background-color: hsl(120, 100.00%, 90.73%); border: none;\">\n",
              "            <td style=\"padding: 0 1em 0 0.5em; text-align: right; border: none;\">\n",
              "                0.0066\n",
              "                \n",
              "                    &plusmn; 0.0108\n",
              "                \n",
              "            </td>\n",
              "            <td style=\"padding: 0 0.5em 0 0.5em; text-align: left; border: none;\">\n",
              "                worst perimeter\n",
              "            </td>\n",
              "        </tr>\n",
              "    \n",
              "        <tr style=\"background-color: hsl(120, 100.00%, 90.73%); border: none;\">\n",
              "            <td style=\"padding: 0 1em 0 0.5em; text-align: right; border: none;\">\n",
              "                0.0066\n",
              "                \n",
              "                    &plusmn; 0.0108\n",
              "                \n",
              "            </td>\n",
              "            <td style=\"padding: 0 0.5em 0 0.5em; text-align: left; border: none;\">\n",
              "                mean concave points\n",
              "            </td>\n",
              "        </tr>\n",
              "    \n",
              "        <tr style=\"background-color: hsl(0, 100.00%, 100.00%); border: none;\">\n",
              "            <td style=\"padding: 0 1em 0 0.5em; text-align: right; border: none;\">\n",
              "                0\n",
              "                \n",
              "                    &plusmn; 0.0000\n",
              "                \n",
              "            </td>\n",
              "            <td style=\"padding: 0 0.5em 0 0.5em; text-align: left; border: none;\">\n",
              "                mean perimeter\n",
              "            </td>\n",
              "        </tr>\n",
              "    \n",
              "        <tr style=\"background-color: hsl(0, 100.00%, 100.00%); border: none;\">\n",
              "            <td style=\"padding: 0 1em 0 0.5em; text-align: right; border: none;\">\n",
              "                0\n",
              "                \n",
              "                    &plusmn; 0.0000\n",
              "                \n",
              "            </td>\n",
              "            <td style=\"padding: 0 0.5em 0 0.5em; text-align: left; border: none;\">\n",
              "                mean area\n",
              "            </td>\n",
              "        </tr>\n",
              "    \n",
              "        <tr style=\"background-color: hsl(0, 100.00%, 100.00%); border: none;\">\n",
              "            <td style=\"padding: 0 1em 0 0.5em; text-align: right; border: none;\">\n",
              "                0\n",
              "                \n",
              "                    &plusmn; 0.0000\n",
              "                \n",
              "            </td>\n",
              "            <td style=\"padding: 0 0.5em 0 0.5em; text-align: left; border: none;\">\n",
              "                mean texture\n",
              "            </td>\n",
              "        </tr>\n",
              "    \n",
              "        <tr style=\"background-color: hsl(0, 100.00%, 100.00%); border: none;\">\n",
              "            <td style=\"padding: 0 1em 0 0.5em; text-align: right; border: none;\">\n",
              "                0\n",
              "                \n",
              "                    &plusmn; 0.0000\n",
              "                \n",
              "            </td>\n",
              "            <td style=\"padding: 0 0.5em 0 0.5em; text-align: left; border: none;\">\n",
              "                perimeter error\n",
              "            </td>\n",
              "        </tr>\n",
              "    \n",
              "        <tr style=\"background-color: hsl(0, 100.00%, 100.00%); border: none;\">\n",
              "            <td style=\"padding: 0 1em 0 0.5em; text-align: right; border: none;\">\n",
              "                0\n",
              "                \n",
              "                    &plusmn; 0.0000\n",
              "                \n",
              "            </td>\n",
              "            <td style=\"padding: 0 0.5em 0 0.5em; text-align: left; border: none;\">\n",
              "                mean compactness\n",
              "            </td>\n",
              "        </tr>\n",
              "    \n",
              "        <tr style=\"background-color: hsl(0, 100.00%, 100.00%); border: none;\">\n",
              "            <td style=\"padding: 0 1em 0 0.5em; text-align: right; border: none;\">\n",
              "                0\n",
              "                \n",
              "                    &plusmn; 0.0000\n",
              "                \n",
              "            </td>\n",
              "            <td style=\"padding: 0 0.5em 0 0.5em; text-align: left; border: none;\">\n",
              "                mean concavity\n",
              "            </td>\n",
              "        </tr>\n",
              "    \n",
              "        <tr style=\"background-color: hsl(0, 100.00%, 100.00%); border: none;\">\n",
              "            <td style=\"padding: 0 1em 0 0.5em; text-align: right; border: none;\">\n",
              "                0\n",
              "                \n",
              "                    &plusmn; 0.0000\n",
              "                \n",
              "            </td>\n",
              "            <td style=\"padding: 0 0.5em 0 0.5em; text-align: left; border: none;\">\n",
              "                mean symmetry\n",
              "            </td>\n",
              "        </tr>\n",
              "    \n",
              "        <tr style=\"background-color: hsl(0, 100.00%, 100.00%); border: none;\">\n",
              "            <td style=\"padding: 0 1em 0 0.5em; text-align: right; border: none;\">\n",
              "                0\n",
              "                \n",
              "                    &plusmn; 0.0000\n",
              "                \n",
              "            </td>\n",
              "            <td style=\"padding: 0 0.5em 0 0.5em; text-align: left; border: none;\">\n",
              "                mean fractal dimension\n",
              "            </td>\n",
              "        </tr>\n",
              "    \n",
              "        <tr style=\"background-color: hsl(0, 100.00%, 100.00%); border: none;\">\n",
              "            <td style=\"padding: 0 1em 0 0.5em; text-align: right; border: none;\">\n",
              "                0\n",
              "                \n",
              "                    &plusmn; 0.0000\n",
              "                \n",
              "            </td>\n",
              "            <td style=\"padding: 0 0.5em 0 0.5em; text-align: left; border: none;\">\n",
              "                radius error\n",
              "            </td>\n",
              "        </tr>\n",
              "    \n",
              "        <tr style=\"background-color: hsl(0, 100.00%, 100.00%); border: none;\">\n",
              "            <td style=\"padding: 0 1em 0 0.5em; text-align: right; border: none;\">\n",
              "                0\n",
              "                \n",
              "                    &plusmn; 0.0000\n",
              "                \n",
              "            </td>\n",
              "            <td style=\"padding: 0 0.5em 0 0.5em; text-align: left; border: none;\">\n",
              "                texture error\n",
              "            </td>\n",
              "        </tr>\n",
              "    \n",
              "        <tr style=\"background-color: hsl(0, 100.00%, 100.00%); border: none;\">\n",
              "            <td style=\"padding: 0 1em 0 0.5em; text-align: right; border: none;\">\n",
              "                0\n",
              "                \n",
              "                    &plusmn; 0.0000\n",
              "                \n",
              "            </td>\n",
              "            <td style=\"padding: 0 0.5em 0 0.5em; text-align: left; border: none;\">\n",
              "                worst fractal dimension\n",
              "            </td>\n",
              "        </tr>\n",
              "    \n",
              "        <tr style=\"background-color: hsl(0, 100.00%, 100.00%); border: none;\">\n",
              "            <td style=\"padding: 0 1em 0 0.5em; text-align: right; border: none;\">\n",
              "                0\n",
              "                \n",
              "                    &plusmn; 0.0000\n",
              "                \n",
              "            </td>\n",
              "            <td style=\"padding: 0 0.5em 0 0.5em; text-align: left; border: none;\">\n",
              "                smoothness error\n",
              "            </td>\n",
              "        </tr>\n",
              "    \n",
              "        <tr style=\"background-color: hsl(0, 100.00%, 100.00%); border: none;\">\n",
              "            <td style=\"padding: 0 1em 0 0.5em; text-align: right; border: none;\">\n",
              "                0\n",
              "                \n",
              "                    &plusmn; 0.0000\n",
              "                \n",
              "            </td>\n",
              "            <td style=\"padding: 0 0.5em 0 0.5em; text-align: left; border: none;\">\n",
              "                worst symmetry\n",
              "            </td>\n",
              "        </tr>\n",
              "    \n",
              "        <tr style=\"background-color: hsl(0, 100.00%, 100.00%); border: none;\">\n",
              "            <td style=\"padding: 0 1em 0 0.5em; text-align: right; border: none;\">\n",
              "                0\n",
              "                \n",
              "                    &plusmn; 0.0000\n",
              "                \n",
              "            </td>\n",
              "            <td style=\"padding: 0 0.5em 0 0.5em; text-align: left; border: none;\">\n",
              "                compactness error\n",
              "            </td>\n",
              "        </tr>\n",
              "    \n",
              "        <tr style=\"background-color: hsl(0, 100.00%, 100.00%); border: none;\">\n",
              "            <td style=\"padding: 0 1em 0 0.5em; text-align: right; border: none;\">\n",
              "                0\n",
              "                \n",
              "                    &plusmn; 0.0000\n",
              "                \n",
              "            </td>\n",
              "            <td style=\"padding: 0 0.5em 0 0.5em; text-align: left; border: none;\">\n",
              "                concavity error\n",
              "            </td>\n",
              "        </tr>\n",
              "    \n",
              "        <tr style=\"background-color: hsl(0, 100.00%, 100.00%); border: none;\">\n",
              "            <td style=\"padding: 0 1em 0 0.5em; text-align: right; border: none;\">\n",
              "                0\n",
              "                \n",
              "                    &plusmn; 0.0000\n",
              "                \n",
              "            </td>\n",
              "            <td style=\"padding: 0 0.5em 0 0.5em; text-align: left; border: none;\">\n",
              "                concave points error\n",
              "            </td>\n",
              "        </tr>\n",
              "    \n",
              "        <tr style=\"background-color: hsl(0, 100.00%, 100.00%); border: none;\">\n",
              "            <td style=\"padding: 0 1em 0 0.5em; text-align: right; border: none;\">\n",
              "                0\n",
              "                \n",
              "                    &plusmn; 0.0000\n",
              "                \n",
              "            </td>\n",
              "            <td style=\"padding: 0 0.5em 0 0.5em; text-align: left; border: none;\">\n",
              "                symmetry error\n",
              "            </td>\n",
              "        </tr>\n",
              "    \n",
              "        <tr style=\"background-color: hsl(0, 100.00%, 100.00%); border: none;\">\n",
              "            <td style=\"padding: 0 1em 0 0.5em; text-align: right; border: none;\">\n",
              "                0\n",
              "                \n",
              "                    &plusmn; 0.0000\n",
              "                \n",
              "            </td>\n",
              "            <td style=\"padding: 0 0.5em 0 0.5em; text-align: left; border: none;\">\n",
              "                fractal dimension error\n",
              "            </td>\n",
              "        </tr>\n",
              "    \n",
              "        <tr style=\"background-color: hsl(0, 100.00%, 100.00%); border: none;\">\n",
              "            <td style=\"padding: 0 1em 0 0.5em; text-align: right; border: none;\">\n",
              "                0\n",
              "                \n",
              "                    &plusmn; 0.0000\n",
              "                \n",
              "            </td>\n",
              "            <td style=\"padding: 0 0.5em 0 0.5em; text-align: left; border: none;\">\n",
              "                worst radius\n",
              "            </td>\n",
              "        </tr>\n",
              "    \n",
              "        <tr style=\"background-color: hsl(0, 100.00%, 100.00%); border: none;\">\n",
              "            <td style=\"padding: 0 1em 0 0.5em; text-align: right; border: none;\">\n",
              "                0\n",
              "                \n",
              "                    &plusmn; 0.0000\n",
              "                \n",
              "            </td>\n",
              "            <td style=\"padding: 0 0.5em 0 0.5em; text-align: left; border: none;\">\n",
              "                worst compactness\n",
              "            </td>\n",
              "        </tr>\n",
              "    \n",
              "        <tr style=\"background-color: hsl(0, 100.00%, 100.00%); border: none;\">\n",
              "            <td style=\"padding: 0 1em 0 0.5em; text-align: right; border: none;\">\n",
              "                0\n",
              "                \n",
              "                    &plusmn; 0.0000\n",
              "                \n",
              "            </td>\n",
              "            <td style=\"padding: 0 0.5em 0 0.5em; text-align: left; border: none;\">\n",
              "                mean radius\n",
              "            </td>\n",
              "        </tr>\n",
              "    \n",
              "        <tr style=\"background-color: hsl(0, 100.00%, 93.02%); border: none;\">\n",
              "            <td style=\"padding: 0 1em 0 0.5em; text-align: right; border: none;\">\n",
              "                -0.0044\n",
              "                \n",
              "                    &plusmn; 0.0108\n",
              "                \n",
              "            </td>\n",
              "            <td style=\"padding: 0 0.5em 0 0.5em; text-align: left; border: none;\">\n",
              "                worst smoothness\n",
              "            </td>\n",
              "        </tr>\n",
              "    \n",
              "        <tr style=\"background-color: hsl(0, 100.00%, 93.02%); border: none;\">\n",
              "            <td style=\"padding: 0 1em 0 0.5em; text-align: right; border: none;\">\n",
              "                -0.0044\n",
              "                \n",
              "                    &plusmn; 0.0108\n",
              "                \n",
              "            </td>\n",
              "            <td style=\"padding: 0 0.5em 0 0.5em; text-align: left; border: none;\">\n",
              "                worst concavity\n",
              "            </td>\n",
              "        </tr>\n",
              "    \n",
              "        <tr style=\"background-color: hsl(0, 100.00%, 90.73%); border: none;\">\n",
              "            <td style=\"padding: 0 1em 0 0.5em; text-align: right; border: none;\">\n",
              "                -0.0066\n",
              "                \n",
              "                    &plusmn; 0.0108\n",
              "                \n",
              "            </td>\n",
              "            <td style=\"padding: 0 0.5em 0 0.5em; text-align: left; border: none;\">\n",
              "                mean smoothness\n",
              "            </td>\n",
              "        </tr>\n",
              "    \n",
              "    \n",
              "    </tbody>\n",
              "</table>\n",
              "    \n",
              "\n",
              "    \n",
              "\n",
              "\n",
              "    \n",
              "\n",
              "    \n",
              "\n",
              "    \n",
              "\n",
              "    \n",
              "\n",
              "    \n",
              "\n",
              "    \n",
              "\n",
              "\n",
              "\n"
            ],
            "text/plain": [
              "<IPython.core.display.HTML object>"
            ]
          },
          "metadata": {
            "tags": []
          },
          "execution_count": 99
        }
      ]
    },
    {
      "cell_type": "code",
      "metadata": {
        "id": "Pg6pTrLvJjdU"
      },
      "source": [
        "minimum_importance = 0.001\n",
        "mask = permuter.feature_importances_ > minimum_importance\n",
        "features = X_train.columns[mask]\n",
        "X_train_selected = X_train[features]\n",
        "X_val_selected = X_val[features]"
      ],
      "execution_count": null,
      "outputs": []
    },
    {
      "cell_type": "markdown",
      "metadata": {
        "id": "wtSx25BPUp6G"
      },
      "source": [
        "# 🔥 도전과제\n",
        "### 4) Xgboost 외에 다른 부스팅 라이브러리로 모델을 학습시켜 Xgboost와 비교해 보세요.\n",
        "\n",
        "> GradientBoostingRegressor 사용\n",
        "\n",
        "- 생각보다 속도가 느리고, XGB보다 성능이 안나온다.\n",
        "\n",
        "> criterion = 'friedman_mse'\n",
        "- MAE_GBR : 176966\n",
        "- RMSE_GBR : 803404\n",
        "\n",
        "> criterion = 'mse' -> GradientBoostingRegressor에서 제일 좋은 성능 \n",
        "- MAE_GBR : 176901\n",
        "- RMSE_GBR : 799695\n",
        "\n",
        "> criterion = 'mae'\n",
        "- MAE_GBR : 179565\n",
        "- RMSE_GBR : 810277"
      ]
    },
    {
      "cell_type": "code",
      "metadata": {
        "id": "vPMk1-YPQxk6"
      },
      "source": [
        "# criterion = 'mae' : 가장 시간비용이 크다. 성능은 별로\n",
        "\n",
        "from sklearn.ensemble import GradientBoostingRegressor\n",
        "\n",
        "pipe_GBR = Pipeline([\n",
        "                     ('preprocessing', make_pipeline(OrdinalEncoder(), SimpleImputer())),\n",
        "                     ('GBR', GradientBoostingRegressor(n_estimators=100,\n",
        "                                                       criterion = 'mae',\n",
        "                                                       random_state=2,\n",
        "                                                       max_depth=7,\n",
        "                                                       learning_rate=0.2))])\n",
        "\n",
        "pipe_GBR.fit(X_train_selected, y_train);"
      ],
      "execution_count": 231,
      "outputs": []
    },
    {
      "cell_type": "code",
      "metadata": {
        "colab": {
          "base_uri": "https://localhost:8080/"
        },
        "id": "UVTbdDb9Vj6d",
        "outputId": "ade27636-2e37-43a8-e69d-a26633f4172e"
      },
      "source": [
        "print(pipe_GBR.score(X_train_selected, y_train))\n",
        "print(pipe_GBR.score(X_val_selected, y_val))"
      ],
      "execution_count": 232,
      "outputs": [
        {
          "output_type": "stream",
          "text": [
            "0.9993832729766039\n",
            "0.9824002292567681\n"
          ],
          "name": "stdout"
        }
      ]
    },
    {
      "cell_type": "code",
      "metadata": {
        "colab": {
          "base_uri": "https://localhost:8080/"
        },
        "id": "rBdyJlsgVs10",
        "outputId": "5b70756d-eafe-4d23-be2f-e8a318e204b0"
      },
      "source": [
        "y_G_pred = pipe_GBR.predict(X_val_selected)\n",
        "\n",
        "print(f'MAE_GBR : {mean_absolute_error(y_val,y_G_pred)}')\n",
        "print(f'RMSE_GBR : {mean_squared_error(y_val,y_G_pred)**0.5}')"
      ],
      "execution_count": 233,
      "outputs": [
        {
          "output_type": "stream",
          "text": [
            "MAE_GBR : 179565.25327152378\n",
            "RMSE_GBR : 810277.6644335478\n"
          ],
          "name": "stdout"
        }
      ]
    },
    {
      "cell_type": "code",
      "metadata": {
        "colab": {
          "base_uri": "https://localhost:8080/"
        },
        "id": "m7St6HonWCiu",
        "outputId": "2e2aa303-04e5-495f-db56-d560023314f3"
      },
      "source": [
        "pipe_GBR.named_steps['GBR'].feature_importances_"
      ],
      "execution_count": 234,
      "outputs": [
        {
          "output_type": "execute_result",
          "data": {
            "text/plain": [
              "array([0.7550844 , 0.06783712, 0.02030177, 0.00172418, 0.0020939 ,\n",
              "       0.12706774, 0.0258909 ])"
            ]
          },
          "metadata": {
            "tags": []
          },
          "execution_count": 234
        }
      ]
    }
  ]
}